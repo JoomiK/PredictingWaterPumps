{
 "cells": [
  {
   "cell_type": "markdown",
   "metadata": {},
   "source": [
    "# Predicting non-functional water pumps in Tanzania, Part II"
   ]
  },
  {
   "cell_type": "markdown",
   "metadata": {},
   "source": [
    "This is Part II of a project for a competition from [drivendata.org.](https://www.drivendata.org/competitions/7/)  \n",
    "See: [Part I](https://github.com/JoomiK/PredictingWaterPumps/blob/master/WaterPumps.ipynb).  \n",
    "\n",
    "Using data on water pumps in communities across Tanzania, can we predict the pumps that are functional, need repairs, or don't work at all?\n",
    "\n",
    "The dataset contains a mix of continuous and categorical variables about what kind of pump is operating, when it was installed, how it was managed, etc. \n",
    "\n",
    "### Outline:  \n",
    "Part I- EDA and cleanup\n",
    "* The data  \n",
    "* Visualizing water pumps and regions\n",
    "* Dropping some features  \n",
    "* Preprocessing labels  \n",
    "* Looking at features  \n",
    "\n",
    "Part II- Modeling\n",
    "* Model selection and evaluation"
   ]
  },
  {
   "cell_type": "code",
   "execution_count": 3,
   "metadata": {
    "collapsed": false
   },
   "outputs": [
    {
     "name": "stdout",
     "output_type": "stream",
     "text": [
      "Python version: 3.5.2\n",
      "numpy version: 1.11.1\n",
      "pandas version: 0.18.1\n",
      "scikit-learn version: 0.18.1\n"
     ]
    }
   ],
   "source": [
    "%matplotlib inline\n",
    "import matplotlib.pyplot as plt\n",
    "from matplotlib.pylab import rcParams\n",
    "import seaborn as sns\n",
    "import pandas as pd\n",
    "import numpy as np\n",
    "import sys\n",
    "from scipy.stats import randint as sp_randint\n",
    "import sklearn as sk\n",
    "from sklearn import metrics, decomposition\n",
    "from sklearn.model_selection import train_test_split, ShuffleSplit, learning_curve, RandomizedSearchCV, GridSearchCV\n",
    "from sklearn.preprocessing import StandardScaler, Imputer\n",
    "from sklearn.feature_selection import SelectKBest\n",
    "from sklearn.pipeline import Pipeline\n",
    "from sklearn.metrics import classification_report, confusion_matrix\n",
    "from sklearn.ensemble import RandomForestClassifier, GradientBoostingClassifier\n",
    "from sklearn.linear_model import LogisticRegression\n",
    "from sklearn.svm import SVC\n",
    "import h2o\n",
    "from h2o.estimators.gbm import H2OGradientBoostingEstimator\n",
    "from h2o.estimators.random_forest import H2ORandomForestEstimator\n",
    "from h2o.model.metrics_base import H2OBinomialModelMetrics\n",
    "import os\n",
    "\n",
    "rcParams['figure.figsize'] = 12, 4\n",
    "print('Python version: %s.%s.%s' % sys.version_info[:3])\n",
    "print('numpy version:', np.__version__)\n",
    "print('pandas version:', pd.__version__)\n",
    "print('scikit-learn version:', sk.__version__)"
   ]
  },
  {
   "cell_type": "markdown",
   "metadata": {},
   "source": [
    "### The data\n",
    "\n",
    "This dataset originally had 39 features. They are described [here](https://www.drivendata.org/competitions/7/pump-it-up-data-mining-the-water-table/page/25/#features_list).  \n",
    "\n",
    "\n",
    "In Part I of this analysis, I added some features, and used one-hot encoding to convert categorical varibales to dummy/indicator variables. This led to over 7000 features.\n",
    "\n",
    "I will try modeling two ways: (1) on one-hot encoded data, with and without dimensionality reduction, and (2) on the original data without one-hot encoding."
   ]
  },
  {
   "cell_type": "code",
   "execution_count": 26,
   "metadata": {
    "collapsed": false
   },
   "outputs": [
    {
     "data": {
      "text/html": [
       "<div>\n",
       "<table border=\"1\" class=\"dataframe\">\n",
       "  <thead>\n",
       "    <tr style=\"text-align: right;\">\n",
       "      <th></th>\n",
       "      <th>amount_tsh</th>\n",
       "      <th>gps_height</th>\n",
       "      <th>num_private</th>\n",
       "      <th>region_code</th>\n",
       "      <th>district_code</th>\n",
       "      <th>population</th>\n",
       "      <th>construction_year</th>\n",
       "      <th>status_group</th>\n",
       "      <th>missing_construction_year</th>\n",
       "      <th>funder_0</th>\n",
       "      <th>...</th>\n",
       "      <th>waterpoint_type_improved spring</th>\n",
       "      <th>waterpoint_type_other</th>\n",
       "      <th>waterpoint_type_nan</th>\n",
       "      <th>waterpoint_type_group_cattle trough</th>\n",
       "      <th>waterpoint_type_group_communal standpipe</th>\n",
       "      <th>waterpoint_type_group_dam</th>\n",
       "      <th>waterpoint_type_group_hand pump</th>\n",
       "      <th>waterpoint_type_group_improved spring</th>\n",
       "      <th>waterpoint_type_group_other</th>\n",
       "      <th>waterpoint_type_group_nan</th>\n",
       "    </tr>\n",
       "    <tr>\n",
       "      <th>id</th>\n",
       "      <th></th>\n",
       "      <th></th>\n",
       "      <th></th>\n",
       "      <th></th>\n",
       "      <th></th>\n",
       "      <th></th>\n",
       "      <th></th>\n",
       "      <th></th>\n",
       "      <th></th>\n",
       "      <th></th>\n",
       "      <th></th>\n",
       "      <th></th>\n",
       "      <th></th>\n",
       "      <th></th>\n",
       "      <th></th>\n",
       "      <th></th>\n",
       "      <th></th>\n",
       "      <th></th>\n",
       "      <th></th>\n",
       "      <th></th>\n",
       "      <th></th>\n",
       "    </tr>\n",
       "  </thead>\n",
       "  <tbody>\n",
       "    <tr>\n",
       "      <th>69572</th>\n",
       "      <td>6000.0</td>\n",
       "      <td>1390</td>\n",
       "      <td>0</td>\n",
       "      <td>11</td>\n",
       "      <td>5</td>\n",
       "      <td>109</td>\n",
       "      <td>1999.0</td>\n",
       "      <td>2</td>\n",
       "      <td>False</td>\n",
       "      <td>0.0</td>\n",
       "      <td>...</td>\n",
       "      <td>0.0</td>\n",
       "      <td>0.0</td>\n",
       "      <td>0.0</td>\n",
       "      <td>0.0</td>\n",
       "      <td>1.0</td>\n",
       "      <td>0.0</td>\n",
       "      <td>0.0</td>\n",
       "      <td>0.0</td>\n",
       "      <td>0.0</td>\n",
       "      <td>0.0</td>\n",
       "    </tr>\n",
       "    <tr>\n",
       "      <th>8776</th>\n",
       "      <td>0.0</td>\n",
       "      <td>1399</td>\n",
       "      <td>0</td>\n",
       "      <td>20</td>\n",
       "      <td>2</td>\n",
       "      <td>280</td>\n",
       "      <td>2010.0</td>\n",
       "      <td>2</td>\n",
       "      <td>False</td>\n",
       "      <td>0.0</td>\n",
       "      <td>...</td>\n",
       "      <td>0.0</td>\n",
       "      <td>0.0</td>\n",
       "      <td>0.0</td>\n",
       "      <td>0.0</td>\n",
       "      <td>1.0</td>\n",
       "      <td>0.0</td>\n",
       "      <td>0.0</td>\n",
       "      <td>0.0</td>\n",
       "      <td>0.0</td>\n",
       "      <td>0.0</td>\n",
       "    </tr>\n",
       "    <tr>\n",
       "      <th>34310</th>\n",
       "      <td>25.0</td>\n",
       "      <td>686</td>\n",
       "      <td>0</td>\n",
       "      <td>21</td>\n",
       "      <td>4</td>\n",
       "      <td>250</td>\n",
       "      <td>2009.0</td>\n",
       "      <td>2</td>\n",
       "      <td>False</td>\n",
       "      <td>0.0</td>\n",
       "      <td>...</td>\n",
       "      <td>0.0</td>\n",
       "      <td>0.0</td>\n",
       "      <td>0.0</td>\n",
       "      <td>0.0</td>\n",
       "      <td>1.0</td>\n",
       "      <td>0.0</td>\n",
       "      <td>0.0</td>\n",
       "      <td>0.0</td>\n",
       "      <td>0.0</td>\n",
       "      <td>0.0</td>\n",
       "    </tr>\n",
       "    <tr>\n",
       "      <th>67743</th>\n",
       "      <td>0.0</td>\n",
       "      <td>263</td>\n",
       "      <td>0</td>\n",
       "      <td>90</td>\n",
       "      <td>63</td>\n",
       "      <td>58</td>\n",
       "      <td>1986.0</td>\n",
       "      <td>0</td>\n",
       "      <td>False</td>\n",
       "      <td>0.0</td>\n",
       "      <td>...</td>\n",
       "      <td>0.0</td>\n",
       "      <td>0.0</td>\n",
       "      <td>0.0</td>\n",
       "      <td>0.0</td>\n",
       "      <td>1.0</td>\n",
       "      <td>0.0</td>\n",
       "      <td>0.0</td>\n",
       "      <td>0.0</td>\n",
       "      <td>0.0</td>\n",
       "      <td>0.0</td>\n",
       "    </tr>\n",
       "    <tr>\n",
       "      <th>19728</th>\n",
       "      <td>0.0</td>\n",
       "      <td>0</td>\n",
       "      <td>0</td>\n",
       "      <td>18</td>\n",
       "      <td>1</td>\n",
       "      <td>0</td>\n",
       "      <td>NaN</td>\n",
       "      <td>2</td>\n",
       "      <td>True</td>\n",
       "      <td>0.0</td>\n",
       "      <td>...</td>\n",
       "      <td>0.0</td>\n",
       "      <td>0.0</td>\n",
       "      <td>0.0</td>\n",
       "      <td>0.0</td>\n",
       "      <td>1.0</td>\n",
       "      <td>0.0</td>\n",
       "      <td>0.0</td>\n",
       "      <td>0.0</td>\n",
       "      <td>0.0</td>\n",
       "      <td>0.0</td>\n",
       "    </tr>\n",
       "  </tbody>\n",
       "</table>\n",
       "<p>5 rows × 7069 columns</p>\n",
       "</div>"
      ],
      "text/plain": [
       "       amount_tsh  gps_height  num_private  region_code  district_code  \\\n",
       "id                                                                       \n",
       "69572      6000.0        1390            0           11              5   \n",
       "8776          0.0        1399            0           20              2   \n",
       "34310        25.0         686            0           21              4   \n",
       "67743         0.0         263            0           90             63   \n",
       "19728         0.0           0            0           18              1   \n",
       "\n",
       "       population  construction_year  status_group missing_construction_year  \\\n",
       "id                                                                             \n",
       "69572         109             1999.0             2                     False   \n",
       "8776          280             2010.0             2                     False   \n",
       "34310         250             2009.0             2                     False   \n",
       "67743          58             1986.0             0                     False   \n",
       "19728           0                NaN             2                      True   \n",
       "\n",
       "       funder_0            ...              waterpoint_type_improved spring  \\\n",
       "id                         ...                                                \n",
       "69572       0.0            ...                                          0.0   \n",
       "8776        0.0            ...                                          0.0   \n",
       "34310       0.0            ...                                          0.0   \n",
       "67743       0.0            ...                                          0.0   \n",
       "19728       0.0            ...                                          0.0   \n",
       "\n",
       "       waterpoint_type_other  waterpoint_type_nan  \\\n",
       "id                                                  \n",
       "69572                    0.0                  0.0   \n",
       "8776                     0.0                  0.0   \n",
       "34310                    0.0                  0.0   \n",
       "67743                    0.0                  0.0   \n",
       "19728                    0.0                  0.0   \n",
       "\n",
       "       waterpoint_type_group_cattle trough  \\\n",
       "id                                           \n",
       "69572                                  0.0   \n",
       "8776                                   0.0   \n",
       "34310                                  0.0   \n",
       "67743                                  0.0   \n",
       "19728                                  0.0   \n",
       "\n",
       "       waterpoint_type_group_communal standpipe  waterpoint_type_group_dam  \\\n",
       "id                                                                           \n",
       "69572                                       1.0                        0.0   \n",
       "8776                                        1.0                        0.0   \n",
       "34310                                       1.0                        0.0   \n",
       "67743                                       1.0                        0.0   \n",
       "19728                                       1.0                        0.0   \n",
       "\n",
       "       waterpoint_type_group_hand pump  waterpoint_type_group_improved spring  \\\n",
       "id                                                                              \n",
       "69572                              0.0                                    0.0   \n",
       "8776                               0.0                                    0.0   \n",
       "34310                              0.0                                    0.0   \n",
       "67743                              0.0                                    0.0   \n",
       "19728                              0.0                                    0.0   \n",
       "\n",
       "       waterpoint_type_group_other  waterpoint_type_group_nan  \n",
       "id                                                             \n",
       "69572                          0.0                        0.0  \n",
       "8776                           0.0                        0.0  \n",
       "34310                          0.0                        0.0  \n",
       "67743                          0.0                        0.0  \n",
       "19728                          0.0                        0.0  \n",
       "\n",
       "[5 rows x 7069 columns]"
      ]
     },
     "execution_count": 26,
     "metadata": {},
     "output_type": "execute_result"
    }
   ],
   "source": [
    "# Load the one-hot encoded data\n",
    "data = pd.read_csv('merged_clean_dum.csv', index_col='id')\n",
    "data.head()"
   ]
  },
  {
   "cell_type": "code",
   "execution_count": 27,
   "metadata": {
    "collapsed": false
   },
   "outputs": [
    {
     "name": "stdout",
     "output_type": "stream",
     "text": [
      "Data rows, columns: (59400, 7069)\n"
     ]
    }
   ],
   "source": [
    "print(\"Data rows, columns:\",data.shape)"
   ]
  },
  {
   "cell_type": "markdown",
   "metadata": {},
   "source": [
    "Note: region_code and district_code are integers, but categorical. I could convert these to dummy variables too, but I will leave these as is for the first pass."
   ]
  },
  {
   "cell_type": "code",
   "execution_count": 55,
   "metadata": {
    "collapsed": true
   },
   "outputs": [],
   "source": [
    "# Getting just the features by dropping the labels\n",
    "train = data.drop('status_group',1)\n",
    "\n",
    "# Getting labels\n",
    "labels = data.status_group"
   ]
  },
  {
   "cell_type": "markdown",
   "metadata": {},
   "source": [
    "### Model preprocessing and selection"
   ]
  },
  {
   "cell_type": "code",
   "execution_count": 58,
   "metadata": {
    "collapsed": false
   },
   "outputs": [],
   "source": [
    "X = train.as_matrix()\n",
    "y = labels.tolist()\n",
    "\n",
    "X_train, X_test, y_train, y_test = \\\n",
    "    train_test_split(X, y, test_size=0.3, random_state=0)"
   ]
  },
  {
   "cell_type": "markdown",
   "metadata": {},
   "source": [
    "#### I. GridSearchCV w/the one-hot encoded data\n",
    "Imputation, dimensionality reduction, and selection of hyperparameters for a random forest classifier (Note- I'm not testing hyperparameters exhaustively for now):"
   ]
  },
  {
   "cell_type": "code",
   "execution_count": 66,
   "metadata": {
    "collapsed": false
   },
   "outputs": [
    {
     "data": {
      "text/plain": [
       "GridSearchCV(cv=None, error_score='raise',\n",
       "       estimator=Pipeline(steps=[('imputer', Imputer(axis=0, copy=True, missing_values='NaN', strategy='median', verbose=0)), ('pca', PCA(copy=True, iterated_power='auto', n_components=None, random_state=None,\n",
       "  svd_solver='auto', tol=0.0, whiten=False)), ('random_forest', RandomForestClassifier(bootstrap=True, class_weight=..._jobs=-1,\n",
       "            oob_score=False, random_state=None, verbose=0,\n",
       "            warm_start=False))]),\n",
       "       fit_params={}, iid=True, n_jobs=1,\n",
       "       param_grid={'random_forest__max_features': ['auto', 'log2'], 'pca__n_components': [40, 100, 300]},\n",
       "       pre_dispatch='2*n_jobs', refit=True, return_train_score=True,\n",
       "       scoring=None, verbose=0)"
      ]
     },
     "execution_count": 66,
     "metadata": {},
     "output_type": "execute_result"
    }
   ],
   "source": [
    "imputer = Imputer(strategy='median')\n",
    "pca = decomposition.PCA()\n",
    "rf = RandomForestClassifier(class_weight='balanced', \n",
    "                            n_jobs=-1, \n",
    "                            n_estimators=300)\n",
    "\n",
    "steps = [('imputer', imputer),\n",
    "        ('pca', pca),\n",
    "        ('random_forest', rf)]\n",
    "\n",
    "pipeline = Pipeline(steps)\n",
    "parameters = dict(\n",
    "                pca__n_components=[40, 100, 300], \n",
    "                random_forest__max_features=['auto', 'log2']\n",
    "                )\n",
    "\n",
    "gs = GridSearchCV(pipeline, param_grid=parameters)\n",
    "gs.fit(X_train, y_train)"
   ]
  },
  {
   "cell_type": "code",
   "execution_count": 67,
   "metadata": {
    "collapsed": false
   },
   "outputs": [
    {
     "name": "stdout",
     "output_type": "stream",
     "text": [
      "0.773400673401\n",
      "{'random_forest__max_features': 'log2', 'pca__n_components': 100}\n"
     ]
    }
   ],
   "source": [
    "print(gs.best_score_)\n",
    "print(gs.best_params_)"
   ]
  },
  {
   "cell_type": "markdown",
   "metadata": {},
   "source": [
    "#### Classification report\n",
    "The model has an f1-score of about 0.8 for labels 0 and 2 (non-functional and functional), but does poorly on label 1- functional but needs repairs."
   ]
  },
  {
   "cell_type": "code",
   "execution_count": 69,
   "metadata": {
    "collapsed": false,
    "scrolled": false
   },
   "outputs": [
    {
     "name": "stdout",
     "output_type": "stream",
     "text": [
      "             precision    recall  f1-score   support\n",
      "\n",
      "          0       0.82      0.76      0.79      6875\n",
      "          1       0.41      0.39      0.40      1333\n",
      "          2       0.80      0.85      0.82      9612\n",
      "\n",
      "avg / total       0.78      0.78      0.78     17820\n",
      "\n"
     ]
    }
   ],
   "source": [
    "rf = gs.best_estimator_\n",
    "rf.fit(X_train, y_train)\n",
    "\n",
    "y_pred = rf.predict(X_test)\n",
    "print(classification_report(y_test, y_pred))"
   ]
  },
  {
   "cell_type": "markdown",
   "metadata": {},
   "source": [
    "#### Steps\n",
    "1. Median imputation  \n",
    "2. PCA with n_components=100  \n",
    "3. Random Forest w/max_features=log2  \n",
    "(Note: I could refine hyperparameters further but I'll move ahead for now). "
   ]
  },
  {
   "cell_type": "code",
   "execution_count": 82,
   "metadata": {
    "collapsed": false
   },
   "outputs": [
    {
     "data": {
      "text/plain": [
       "[('imputer',\n",
       "  Imputer(axis=0, copy=True, missing_values='NaN', strategy='median', verbose=0)),\n",
       " ('pca',\n",
       "  PCA(copy=True, iterated_power='auto', n_components=100, random_state=None,\n",
       "    svd_solver='auto', tol=0.0, whiten=False)),\n",
       " ('random_forest',\n",
       "  RandomForestClassifier(bootstrap=True, class_weight='balanced',\n",
       "              criterion='gini', max_depth=None, max_features='log2',\n",
       "              max_leaf_nodes=None, min_impurity_split=1e-07,\n",
       "              min_samples_leaf=1, min_samples_split=2,\n",
       "              min_weight_fraction_leaf=0.0, n_estimators=300, n_jobs=-1,\n",
       "              oob_score=False, random_state=None, verbose=0,\n",
       "              warm_start=False))]"
      ]
     },
     "execution_count": 82,
     "metadata": {},
     "output_type": "execute_result"
    }
   ],
   "source": [
    "rf.steps"
   ]
  },
  {
   "cell_type": "code",
   "execution_count": 75,
   "metadata": {
    "collapsed": false
   },
   "outputs": [
    {
     "data": {
      "text/plain": [
       "RandomForestClassifier(bootstrap=True, class_weight='balanced',\n",
       "            criterion='gini', max_depth=None, max_features='log2',\n",
       "            max_leaf_nodes=None, min_impurity_split=1e-07,\n",
       "            min_samples_leaf=1, min_samples_split=2,\n",
       "            min_weight_fraction_leaf=0.0, n_estimators=300, n_jobs=-1,\n",
       "            oob_score=False, random_state=None, verbose=0,\n",
       "            warm_start=False)"
      ]
     },
     "execution_count": 75,
     "metadata": {},
     "output_type": "execute_result"
    }
   ],
   "source": [
    "rf.steps[2][1]"
   ]
  },
  {
   "cell_type": "code",
   "execution_count": 77,
   "metadata": {
    "collapsed": false
   },
   "outputs": [],
   "source": [
    "importances = rf.steps[2][1].feature_importances_\n",
    "std = np.std([tree.feature_importances_ for tree in rf.steps[2][1].estimators_],\n",
    "             axis=0)\n",
    "indices = np.argsort(importances)[::-1]"
   ]
  },
  {
   "cell_type": "code",
   "execution_count": 78,
   "metadata": {
    "collapsed": false
   },
   "outputs": [
    {
     "data": {
      "text/plain": [
       "array(['amount_tsh', 'gps_height', 'num_private', ...,\n",
       "       'waterpoint_type_group_improved spring',\n",
       "       'waterpoint_type_group_other', 'waterpoint_type_group_nan'], \n",
       "      dtype='<U58')"
      ]
     },
     "execution_count": 78,
     "metadata": {},
     "output_type": "execute_result"
    }
   ],
   "source": [
    "feature_names = np.array(list(train.columns.values))\n",
    "feature_names"
   ]
  },
  {
   "cell_type": "code",
   "execution_count": 79,
   "metadata": {
    "collapsed": false
   },
   "outputs": [
    {
     "name": "stdout",
     "output_type": "stream",
     "text": [
      "['amount_tsh' 'gps_height' 'region_code' 'district_code' 'population'\n",
      " 'construction_year' 'missing_construction_year' 'funder_0'\n",
      " 'funder_A/co Germany' 'funder_Aar' 'funder_Abas Ka' 'funder_Abasia'\n",
      " 'funder_Abc-ihushi Development Cent' 'funder_Abd' 'funder_Abdala'\n",
      " 'funder_Abood' 'funder_Abs' 'funder_Aco/germany' 'funder_Acord Ngo'\n",
      " 'funder_Act' 'funder_Act Mara' 'funder_Africa Project Ev Germany'\n",
      " 'funder_Africaone Ltd' 'funder_Aqua Blues Angels' 'funder_Area']\n"
     ]
    },
    {
     "name": "stderr",
     "output_type": "stream",
     "text": [
      "/Users/jkim/anaconda/envs/py35/lib/python3.5/site-packages/ipykernel/__main__.py:1: VisibleDeprecationWarning: boolean index did not match indexed array along dimension 0; dimension is 7068 but corresponding boolean dimension is 100\n",
      "  if __name__ == '__main__':\n"
     ]
    }
   ],
   "source": [
    "important_names = feature_names[importances>np.mean(importances)]\n",
    "print(important_names)"
   ]
  },
  {
   "cell_type": "markdown",
   "metadata": {},
   "source": [
    "#### Top features"
   ]
  },
  {
   "cell_type": "markdown",
   "metadata": {},
   "source": [
    "Some of the top features are: amount_tsh (total static head, or amount water available to waterpoint), gps_height (altitude of the well), region and district codes, population, construction year, missing construction year, and funder.\n",
    "\n",
    "#### Some caveats:  \n",
    "This is not unique to using random forests for feature selection, but applies to most model based feature selection methods: if the dataset has correlated features, once one of them is used as a predictor, the importance of the others is significantly reduced. This is ok if we just want to use feature selection to avoid overfitting, but if we are using it to interpret the data, we have to be careful. \n",
    "\n",
    "#### Problems with one-hot encoding:\n",
    "When we one-hot encoded categorical variables, the resulting sparsity makes continuous variables assigned higher feature importance. Moreover, a single level of a categorical variable must meet a very high bar to be selected for splitting early in the tree building, which can degrade predictive performance. Lastly, by one-hot encoding, we created many binary variables, and they were all seen as independent (from the splitting algorithm's point of view). "
   ]
  },
  {
   "cell_type": "markdown",
   "metadata": {},
   "source": [
    "#### Confusion matrix"
   ]
  },
  {
   "cell_type": "code",
   "execution_count": 80,
   "metadata": {
    "collapsed": false
   },
   "outputs": [
    {
     "data": {
      "text/plain": [
       "array([[5216,  217, 1442],\n",
       "       [ 211,  523,  599],\n",
       "       [ 911,  539, 8162]])"
      ]
     },
     "execution_count": 80,
     "metadata": {},
     "output_type": "execute_result"
    }
   ],
   "source": [
    "confmat = confusion_matrix(y_true=y_test, y_pred=y_pred)\n",
    "confmat"
   ]
  },
  {
   "cell_type": "code",
   "execution_count": 81,
   "metadata": {
    "collapsed": false
   },
   "outputs": [
    {
     "data": {
      "image/png": "[encoded data removed]",
      "text/plain": [
       "<matplotlib.figure.Figure at 0x11bde3ba8>"
      ]
     },
     "metadata": {},
     "output_type": "display_data"
    }
   ],
   "source": [
    "fig,ax = plt.subplots(figsize=(2.5,2.5))\n",
    "ax.matshow(confmat, cmap=plt.cm.Blues, alpha=0.3)\n",
    "for i in range(confmat.shape[0]):\n",
    "    for j in range(confmat.shape[1]):\n",
    "        ax.text(x=j,y=i,\n",
    "               s=confmat[i,j],\n",
    "               va='center', ha='center')\n",
    "plt.xlabel('predicted label')\n",
    "plt.ylabel('true label')\n",
    "plt.show()"
   ]
  },
  {
   "cell_type": "markdown",
   "metadata": {},
   "source": [
    "The model has the most trouble classifying water pumps in class 1 (pumps that need repair)."
   ]
  },
  {
   "cell_type": "markdown",
   "metadata": {},
   "source": [
    "#### II. H2O implementation of random forest without one-hot encoding\n",
    "\n",
    "The H2O random forest implementation lets you input categorical data without one-hot encoding. It also treats missing values differently than sklearn's (as a separate category).\n",
    "\n",
    "Start up a local H2O cluster:"
   ]
  },
  {
   "cell_type": "code",
   "execution_count": 4,
   "metadata": {
    "collapsed": false
   },
   "outputs": [
    {
     "name": "stdout",
     "output_type": "stream",
     "text": [
      "Checking whether there is an H2O instance running at http://localhost:54321..... not found.\n",
      "Attempting to start a local H2O server...\n",
      "  Java Version: java version \"1.8.0_40\"; Java(TM) SE Runtime Environment (build 1.8.0_40-b27); Java HotSpot(TM) 64-Bit Server VM (build 25.40-b25, mixed mode)\n",
      "  Starting server from /Users/jkim/anaconda/envs/py35/lib/python3.5/site-packages/h2o/backend/bin/h2o.jar\n",
      "  Ice root: /var/folders/5d/ftxntrp16l5g04c049nr03pr0000gp/T/tmp_jb85xnp\n",
      "  JVM stdout: /var/folders/5d/ftxntrp16l5g04c049nr03pr0000gp/T/tmp_jb85xnp/h2o_jkim_started_from_python.out\n",
      "  JVM stderr: /var/folders/5d/ftxntrp16l5g04c049nr03pr0000gp/T/tmp_jb85xnp/h2o_jkim_started_from_python.err\n",
      "  Server is running at http://127.0.0.1:54321\n",
      "Connecting to H2O server at http://127.0.0.1:54321... successful.\n"
     ]
    },
    {
     "data": {
      "text/html": [
       "<div style=\"overflow:auto\"><table style=\"width:50%\"><tr><td>H2O cluster uptime:</td>\n",
       "<td>02 secs</td></tr>\n",
       "<tr><td>H2O cluster version:</td>\n",
       "<td>3.10.0.10</td></tr>\n",
       "<tr><td>H2O cluster version age:</td>\n",
       "<td>2 months and 9 days </td></tr>\n",
       "<tr><td>H2O cluster name:</td>\n",
       "<td>H2O_from_python_jkim_cz0i75</td></tr>\n",
       "<tr><td>H2O cluster total nodes:</td>\n",
       "<td>1</td></tr>\n",
       "<tr><td>H2O cluster free memory:</td>\n",
       "<td>1.778 Gb</td></tr>\n",
       "<tr><td>H2O cluster total cores:</td>\n",
       "<td>8</td></tr>\n",
       "<tr><td>H2O cluster allowed cores:</td>\n",
       "<td>8</td></tr>\n",
       "<tr><td>H2O cluster status:</td>\n",
       "<td>accepting new members, healthy</td></tr>\n",
       "<tr><td>H2O connection url:</td>\n",
       "<td>http://127.0.0.1:54321</td></tr>\n",
       "<tr><td>H2O connection proxy:</td>\n",
       "<td>None</td></tr>\n",
       "<tr><td>Python version:</td>\n",
       "<td>3.5.2 final</td></tr></table></div>"
      ],
      "text/plain": [
       "--------------------------  ------------------------------\n",
       "H2O cluster uptime:         02 secs\n",
       "H2O cluster version:        3.10.0.10\n",
       "H2O cluster version age:    2 months and 9 days\n",
       "H2O cluster name:           H2O_from_python_jkim_cz0i75\n",
       "H2O cluster total nodes:    1\n",
       "H2O cluster free memory:    1.778 Gb\n",
       "H2O cluster total cores:    8\n",
       "H2O cluster allowed cores:  8\n",
       "H2O cluster status:         accepting new members, healthy\n",
       "H2O connection url:         http://127.0.0.1:54321\n",
       "H2O connection proxy:\n",
       "Python version:             3.5.2 final\n",
       "--------------------------  ------------------------------"
      ]
     },
     "metadata": {},
     "output_type": "display_data"
    }
   ],
   "source": [
    "h2o.init(max_mem_size = \"2G\", nthreads=-1)"
   ]
  },
  {
   "cell_type": "markdown",
   "metadata": {},
   "source": [
    "#### Import data  \n",
    "This is a cleaned up version of the data without one-hot encoding."
   ]
  },
  {
   "cell_type": "code",
   "execution_count": 5,
   "metadata": {
    "collapsed": false
   },
   "outputs": [
    {
     "name": "stdout",
     "output_type": "stream",
     "text": [
      "Parse progress: |█████████████████████████████████████████████████████████| 100%\n"
     ]
    }
   ],
   "source": [
    "data2 = h2o.import_file(os.path.realpath('merged_clean.csv'))"
   ]
  },
  {
   "cell_type": "markdown",
   "metadata": {},
   "source": [
    "#### Encode response variable  \n",
    "Since we want to train a classification mode, we must ensure that the response is coded as a factor."
   ]
  },
  {
   "cell_type": "code",
   "execution_count": 6,
   "metadata": {
    "collapsed": false
   },
   "outputs": [
    {
     "data": {
      "text/plain": [
       "[['0', '1', '2']]"
      ]
     },
     "execution_count": 6,
     "metadata": {},
     "output_type": "execute_result"
    }
   ],
   "source": [
    "data2['status_group']=data2['status_group'].asfactor() # encode response as a factor\n",
    "data2['status_group'].levels() # show the levels"
   ]
  },
  {
   "cell_type": "markdown",
   "metadata": {},
   "source": [
    "#### Partition data"
   ]
  },
  {
   "cell_type": "code",
   "execution_count": 7,
   "metadata": {
    "collapsed": true
   },
   "outputs": [],
   "source": [
    "# Partition data into 70%, 15%, 15% chunks\n",
    "# Setting a seed will guarantee reproducibility\n",
    "train, valid, test = data2.split_frame([0.7, 0.15], seed=1234)"
   ]
  },
  {
   "cell_type": "code",
   "execution_count": 8,
   "metadata": {
    "collapsed": true
   },
   "outputs": [],
   "source": [
    "X = data2.col_names[1:-1] # All columns except first (id) and last (reponse variable) \n",
    "y = data2.col_names[-1] # Response variable"
   ]
  },
  {
   "cell_type": "markdown",
   "metadata": {
    "collapsed": true
   },
   "source": [
    "#### Model"
   ]
  },
  {
   "cell_type": "markdown",
   "metadata": {},
   "source": [
    "I'll quickly build a model for now and come back to tuning hyperparameters later. "
   ]
  },
  {
   "cell_type": "code",
   "execution_count": 9,
   "metadata": {
    "collapsed": true
   },
   "outputs": [],
   "source": [
    "rf_v1 = H2ORandomForestEstimator(\n",
    "        model_id=\"rf_v1\",\n",
    "        balance_classes=True,\n",
    "        ntrees=300,\n",
    "        stopping_rounds=2,\n",
    "        score_each_iteration=True,\n",
    "        seed=1000000)"
   ]
  },
  {
   "cell_type": "code",
   "execution_count": 10,
   "metadata": {
    "collapsed": false
   },
   "outputs": [
    {
     "name": "stdout",
     "output_type": "stream",
     "text": [
      "drf Model Build progress: |███████████████████████████████████████████████| 100%\n"
     ]
    }
   ],
   "source": [
    "rf_v1.train(X, y, training_frame=train, validation_frame=valid)"
   ]
  },
  {
   "cell_type": "code",
   "execution_count": 11,
   "metadata": {
    "collapsed": false
   },
   "outputs": [
    {
     "name": "stdout",
     "output_type": "stream",
     "text": [
      "Model Details\n",
      "=============\n",
      "H2ORandomForestEstimator :  Distributed Random Forest\n",
      "Model Key:  rf_v1\n",
      "Model Summary: \n"
     ]
    },
    {
     "data": {
      "text/html": [
       "<div style=\"overflow:auto\"><table style=\"width:50%\"><tr><td><b></b></td>\n",
       "<td><b>number_of_trees</b></td>\n",
       "<td><b>number_of_internal_trees</b></td>\n",
       "<td><b>model_size_in_bytes</b></td>\n",
       "<td><b>min_depth</b></td>\n",
       "<td><b>max_depth</b></td>\n",
       "<td><b>mean_depth</b></td>\n",
       "<td><b>min_leaves</b></td>\n",
       "<td><b>max_leaves</b></td>\n",
       "<td><b>mean_leaves</b></td></tr>\n",
       "<tr><td></td>\n",
       "<td>32.0</td>\n",
       "<td>96.0</td>\n",
       "<td>3629520.0</td>\n",
       "<td>20.0</td>\n",
       "<td>20.0</td>\n",
       "<td>20.0</td>\n",
       "<td>1433.0</td>\n",
       "<td>3759.0</td>\n",
       "<td>2650.0938</td></tr></table></div>"
      ],
      "text/plain": [
       "    number_of_trees    number_of_internal_trees    model_size_in_bytes    min_depth    max_depth    mean_depth    min_leaves    max_leaves    mean_leaves\n",
       "--  -----------------  --------------------------  ---------------------  -----------  -----------  ------------  ------------  ------------  -------------\n",
       "    32                 96                          3.62952e+06            20           20           20            1433          3759          2650.09"
      ]
     },
     "metadata": {},
     "output_type": "display_data"
    },
    {
     "name": "stdout",
     "output_type": "stream",
     "text": [
      "\n",
      "\n",
      "ModelMetricsMultinomial: drf\n",
      "** Reported on train data. **\n",
      "\n",
      "MSE: 0.24663297395089073\n",
      "RMSE: 0.496621560094697\n",
      "LogLoss: 0.7351344533214206\n",
      "Mean Per-Class Error: 0.34878276470320757\n",
      "Confusion Matrix: vertical: actual; across: predicted\n",
      "\n"
     ]
    },
    {
     "data": {
      "text/html": [
       "<div style=\"overflow:auto\"><table style=\"width:50%\"><tr><td><b>0</b></td>\n",
       "<td><b>1</b></td>\n",
       "<td><b>2</b></td>\n",
       "<td><b>Error</b></td>\n",
       "<td><b>Rate</b></td></tr>\n",
       "<tr><td>17622.0</td>\n",
       "<td>91.0</td>\n",
       "<td>4808.0</td>\n",
       "<td>0.2175303</td>\n",
       "<td>4,899 / 22,521</td></tr>\n",
       "<tr><td>3197.0</td>\n",
       "<td>5680.0</td>\n",
       "<td>13685.0</td>\n",
       "<td>0.7482493</td>\n",
       "<td>16,882 / 22,562</td></tr>\n",
       "<tr><td>1683.0</td>\n",
       "<td>136.0</td>\n",
       "<td>20758.0</td>\n",
       "<td>0.0805687</td>\n",
       "<td>1,819 / 22,577</td></tr>\n",
       "<tr><td>22502.0</td>\n",
       "<td>5907.0</td>\n",
       "<td>39251.0</td>\n",
       "<td>0.3488028</td>\n",
       "<td>23,600 / 67,660</td></tr></table></div>"
      ],
      "text/plain": [
       "0      1     2      Error      Rate\n",
       "-----  ----  -----  ---------  ---------------\n",
       "17622  91    4808   0.21753    4,899 / 22,521\n",
       "3197   5680  13685  0.748249   16,882 / 22,562\n",
       "1683   136   20758  0.0805687  1,819 / 22,577\n",
       "22502  5907  39251  0.348803   23,600 / 67,660"
      ]
     },
     "metadata": {},
     "output_type": "display_data"
    },
    {
     "name": "stdout",
     "output_type": "stream",
     "text": [
      "Top-3 Hit Ratios: \n"
     ]
    },
    {
     "data": {
      "text/html": [
       "<div style=\"overflow:auto\"><table style=\"width:50%\"><tr><td><b>k</b></td>\n",
       "<td><b>hit_ratio</b></td></tr>\n",
       "<tr><td>1</td>\n",
       "<td>0.6511971</td></tr>\n",
       "<tr><td>2</td>\n",
       "<td>0.8973396</td></tr>\n",
       "<tr><td>3</td>\n",
       "<td>0.9999999</td></tr></table></div>"
      ],
      "text/plain": [
       "k    hit_ratio\n",
       "---  -----------\n",
       "1    0.651197\n",
       "2    0.89734\n",
       "3    1"
      ]
     },
     "metadata": {},
     "output_type": "display_data"
    },
    {
     "name": "stdout",
     "output_type": "stream",
     "text": [
      "\n",
      "ModelMetricsMultinomial: drf\n",
      "** Reported on validation data. **\n",
      "\n",
      "MSE: 0.1594342154717807\n",
      "RMSE: 0.399292143012833\n",
      "LogLoss: 0.54388162010831\n",
      "Mean Per-Class Error: 0.39999447107732106\n",
      "Confusion Matrix: vertical: actual; across: predicted\n",
      "\n"
     ]
    },
    {
     "data": {
      "text/html": [
       "<div style=\"overflow:auto\"><table style=\"width:50%\"><tr><td><b>0</b></td>\n",
       "<td><b>1</b></td>\n",
       "<td><b>2</b></td>\n",
       "<td><b>Error</b></td>\n",
       "<td><b>Rate</b></td></tr>\n",
       "<tr><td>2494.0</td>\n",
       "<td>18.0</td>\n",
       "<td>897.0</td>\n",
       "<td>0.2684072</td>\n",
       "<td>915 / 3,409</td></tr>\n",
       "<tr><td>92.0</td>\n",
       "<td>87.0</td>\n",
       "<td>446.0</td>\n",
       "<td>0.8608</td>\n",
       "<td>538 / 625</td></tr>\n",
       "<tr><td>325.0</td>\n",
       "<td>16.0</td>\n",
       "<td>4477.0</td>\n",
       "<td>0.0707763</td>\n",
       "<td>341 / 4,818</td></tr>\n",
       "<tr><td>2911.0</td>\n",
       "<td>121.0</td>\n",
       "<td>5820.0</td>\n",
       "<td>0.2026661</td>\n",
       "<td>1,794 / 8,852</td></tr></table></div>"
      ],
      "text/plain": [
       "0     1    2     Error      Rate\n",
       "----  ---  ----  ---------  -------------\n",
       "2494  18   897   0.268407   915 / 3,409\n",
       "92    87   446   0.8608     538 / 625\n",
       "325   16   4477  0.0707763  341 / 4,818\n",
       "2911  121  5820  0.202666   1,794 / 8,852"
      ]
     },
     "metadata": {},
     "output_type": "display_data"
    },
    {
     "name": "stdout",
     "output_type": "stream",
     "text": [
      "Top-3 Hit Ratios: \n"
     ]
    },
    {
     "data": {
      "text/html": [
       "<div style=\"overflow:auto\"><table style=\"width:50%\"><tr><td><b>k</b></td>\n",
       "<td><b>hit_ratio</b></td></tr>\n",
       "<tr><td>1</td>\n",
       "<td>0.7973340</td></tr>\n",
       "<tr><td>2</td>\n",
       "<td>0.9536828</td></tr>\n",
       "<tr><td>3</td>\n",
       "<td>1.0</td></tr></table></div>"
      ],
      "text/plain": [
       "k    hit_ratio\n",
       "---  -----------\n",
       "1    0.797334\n",
       "2    0.953683\n",
       "3    1"
      ]
     },
     "metadata": {},
     "output_type": "display_data"
    },
    {
     "name": "stdout",
     "output_type": "stream",
     "text": [
      "Scoring History: \n"
     ]
    },
    {
     "data": {
      "text/html": [
       "<div style=\"overflow:auto\"><table style=\"width:50%\"><tr><td><b></b></td>\n",
       "<td><b>timestamp</b></td>\n",
       "<td><b>duration</b></td>\n",
       "<td><b>number_of_trees</b></td>\n",
       "<td><b>training_rmse</b></td>\n",
       "<td><b>training_logloss</b></td>\n",
       "<td><b>training_classification_error</b></td>\n",
       "<td><b>validation_rmse</b></td>\n",
       "<td><b>validation_logloss</b></td>\n",
       "<td><b>validation_classification_error</b></td></tr>\n",
       "<tr><td></td>\n",
       "<td>2017-01-17 12:03:16</td>\n",
       "<td> 0.018 sec</td>\n",
       "<td>0.0</td>\n",
       "<td>nan</td>\n",
       "<td>nan</td>\n",
       "<td>nan</td>\n",
       "<td>nan</td>\n",
       "<td>nan</td>\n",
       "<td>nan</td></tr>\n",
       "<tr><td></td>\n",
       "<td>2017-01-17 12:03:18</td>\n",
       "<td> 2.216 sec</td>\n",
       "<td>1.0</td>\n",
       "<td>0.5951179</td>\n",
       "<td>8.5421026</td>\n",
       "<td>0.3883801</td>\n",
       "<td>0.5236415</td>\n",
       "<td>6.8440286</td>\n",
       "<td>0.2817442</td></tr>\n",
       "<tr><td></td>\n",
       "<td>2017-01-17 12:03:19</td>\n",
       "<td> 2.854 sec</td>\n",
       "<td>2.0</td>\n",
       "<td>0.5879322</td>\n",
       "<td>8.0989405</td>\n",
       "<td>0.3799788</td>\n",
       "<td>0.4518493</td>\n",
       "<td>3.2032095</td>\n",
       "<td>0.2403977</td></tr>\n",
       "<tr><td></td>\n",
       "<td>2017-01-17 12:03:20</td>\n",
       "<td> 3.387 sec</td>\n",
       "<td>3.0</td>\n",
       "<td>0.5767514</td>\n",
       "<td>7.1878886</td>\n",
       "<td>0.3760123</td>\n",
       "<td>0.4255624</td>\n",
       "<td>1.8792577</td>\n",
       "<td>0.2220967</td></tr>\n",
       "<tr><td></td>\n",
       "<td>2017-01-17 12:03:20</td>\n",
       "<td> 3.919 sec</td>\n",
       "<td>4.0</td>\n",
       "<td>0.5565996</td>\n",
       "<td>5.8767437</td>\n",
       "<td>0.3620462</td>\n",
       "<td>0.4141192</td>\n",
       "<td>1.2854569</td>\n",
       "<td>0.2159964</td></tr>\n",
       "<tr><td>---</td>\n",
       "<td>---</td>\n",
       "<td>---</td>\n",
       "<td>---</td>\n",
       "<td>---</td>\n",
       "<td>---</td>\n",
       "<td>---</td>\n",
       "<td>---</td>\n",
       "<td>---</td>\n",
       "<td>---</td></tr>\n",
       "<tr><td></td>\n",
       "<td>2017-01-17 12:03:32</td>\n",
       "<td>15.659 sec</td>\n",
       "<td>28.0</td>\n",
       "<td>0.4966274</td>\n",
       "<td>0.7603848</td>\n",
       "<td>0.3469849</td>\n",
       "<td>0.3994254</td>\n",
       "<td>0.5534639</td>\n",
       "<td>0.2005197</td></tr>\n",
       "<tr><td></td>\n",
       "<td>2017-01-17 12:03:32</td>\n",
       "<td>16.154 sec</td>\n",
       "<td>29.0</td>\n",
       "<td>0.4960718</td>\n",
       "<td>0.7481101</td>\n",
       "<td>0.3463494</td>\n",
       "<td>0.3992440</td>\n",
       "<td>0.5441000</td>\n",
       "<td>0.2001808</td></tr>\n",
       "<tr><td></td>\n",
       "<td>2017-01-17 12:03:33</td>\n",
       "<td>16.635 sec</td>\n",
       "<td>30.0</td>\n",
       "<td>0.4969369</td>\n",
       "<td>0.7459109</td>\n",
       "<td>0.3492019</td>\n",
       "<td>0.3996000</td>\n",
       "<td>0.5445013</td>\n",
       "<td>0.2021012</td></tr>\n",
       "<tr><td></td>\n",
       "<td>2017-01-17 12:03:33</td>\n",
       "<td>17.124 sec</td>\n",
       "<td>31.0</td>\n",
       "<td>0.4965813</td>\n",
       "<td>0.7387624</td>\n",
       "<td>0.3488915</td>\n",
       "<td>0.3994825</td>\n",
       "<td>0.5445578</td>\n",
       "<td>0.2015364</td></tr>\n",
       "<tr><td></td>\n",
       "<td>2017-01-17 12:03:34</td>\n",
       "<td>17.625 sec</td>\n",
       "<td>32.0</td>\n",
       "<td>0.4966216</td>\n",
       "<td>0.7351345</td>\n",
       "<td>0.3488028</td>\n",
       "<td>0.3992921</td>\n",
       "<td>0.5438816</td>\n",
       "<td>0.2026661</td></tr></table></div>"
      ],
      "text/plain": [
       "     timestamp            duration    number_of_trees    training_rmse        training_logloss    training_classification_error    validation_rmse      validation_logloss    validation_classification_error\n",
       "---  -------------------  ----------  -----------------  -------------------  ------------------  -------------------------------  -------------------  --------------------  ---------------------------------\n",
       "     2017-01-17 12:03:16  0.018 sec   0.0                nan                  nan                 nan                              nan                  nan                   nan\n",
       "     2017-01-17 12:03:18  2.216 sec   1.0                0.595117860574995    8.542102612476441   0.3883800685898729               0.5236415139076579   6.844028571697203     0.28174423859014913\n",
       "     2017-01-17 12:03:19  2.854 sec   2.0                0.5879321690922233   8.09894045229948    0.37997876385905127              0.4518493354716558   3.2032095330165644    0.2403976502485314\n",
       "     2017-01-17 12:03:20  3.387 sec   3.0                0.5767513865017444   7.187888632434374   0.37601232568245563              0.42556244628673584  1.8792576637318321    0.22209670131043832\n",
       "     2017-01-17 12:03:20  3.919 sec   4.0                0.5565996148465694   5.876743702412388   0.36204615866606327              0.4141192478541943   1.2854569187638936    0.21599638499774063\n",
       "---  ---                  ---         ---                ---                  ---                 ---                              ---                  ---                   ---\n",
       "     2017-01-17 12:03:32  15.659 sec  28.0               0.49662738887852637  0.7603847966010625  0.3469849246231156               0.39942538886857726  0.5534639180261013    0.20051965657478535\n",
       "     2017-01-17 12:03:32  16.154 sec  29.0               0.49607179894083403  0.7481100507349819  0.34634939402896836              0.3992440350567359   0.5441000493906883    0.20018075011296882\n",
       "     2017-01-17 12:03:33  16.635 sec  30.0               0.49693694608019856  0.7459108844648181  0.3492018918120012               0.39960002918569726  0.5445012676259109    0.20210122006326253\n",
       "     2017-01-17 12:03:33  17.124 sec  31.0               0.4965813289858406   0.7387624496621038  0.3488915164055572               0.3994824905009269   0.5445577964685183    0.20153637596023496\n",
       "     2017-01-17 12:03:34  17.625 sec  32.0               0.496621560094697    0.7351344533214206  0.34880283771800175              0.399292143012833    0.54388162010831      0.2026660641662901"
      ]
     },
     "metadata": {},
     "output_type": "display_data"
    },
    {
     "name": "stdout",
     "output_type": "stream",
     "text": [
      "\n",
      "See the whole table with table.as_data_frame()\n",
      "Variable Importances: \n"
     ]
    },
    {
     "data": {
      "text/html": [
       "<div style=\"overflow:auto\"><table style=\"width:50%\"><tr><td><b>variable</b></td>\n",
       "<td><b>relative_importance</b></td>\n",
       "<td><b>scaled_importance</b></td>\n",
       "<td><b>percentage</b></td></tr>\n",
       "<tr><td>lga</td>\n",
       "<td>127887.0</td>\n",
       "<td>1.0</td>\n",
       "<td>0.1876133</td></tr>\n",
       "<tr><td>quantity</td>\n",
       "<td>62685.6757812</td>\n",
       "<td>0.4901646</td>\n",
       "<td>0.0919614</td></tr>\n",
       "<tr><td>quantity_group</td>\n",
       "<td>46434.4179688</td>\n",
       "<td>0.3630894</td>\n",
       "<td>0.0681204</td></tr>\n",
       "<tr><td>region</td>\n",
       "<td>36214.4062500</td>\n",
       "<td>0.2831750</td>\n",
       "<td>0.0531274</td></tr>\n",
       "<tr><td>funder</td>\n",
       "<td>33745.8203125</td>\n",
       "<td>0.2638722</td>\n",
       "<td>0.0495059</td></tr>\n",
       "<tr><td>---</td>\n",
       "<td>---</td>\n",
       "<td>---</td>\n",
       "<td>---</td></tr>\n",
       "<tr><td>amount_tsh</td>\n",
       "<td>4199.7519531</td>\n",
       "<td>0.0328396</td>\n",
       "<td>0.0061611</td></tr>\n",
       "<tr><td>management_group</td>\n",
       "<td>4159.1743164</td>\n",
       "<td>0.0325223</td>\n",
       "<td>0.0061016</td></tr>\n",
       "<tr><td>source_class</td>\n",
       "<td>3242.0720215</td>\n",
       "<td>0.0253511</td>\n",
       "<td>0.0047562</td></tr>\n",
       "<tr><td>missing_construction_year</td>\n",
       "<td>1844.0565186</td>\n",
       "<td>0.0144194</td>\n",
       "<td>0.0027053</td></tr>\n",
       "<tr><td>num_private</td>\n",
       "<td>580.7127075</td>\n",
       "<td>0.0045408</td>\n",
       "<td>0.0008519</td></tr></table></div>"
      ],
      "text/plain": [
       "variable                   relative_importance    scaled_importance     percentage\n",
       "-------------------------  ---------------------  --------------------  ---------------------\n",
       "lga                        127887.0               1.0                   0.18761329847561933\n",
       "quantity                   62685.67578125         0.4901645654464488    0.09196139091927685\n",
       "quantity_group             46434.41796875         0.3630894302685183    0.0681204056543101\n",
       "region                     36214.40625            0.28317503929250043   0.053127403167629116\n",
       "funder                     33745.8203125          0.2638721708422279    0.049505928347632525\n",
       "---                        ---                    ---                   ---\n",
       "amount_tsh                 4199.751953125         0.03283955330193843   0.006161136915442586\n",
       "management_group           4159.17431640625       0.03252226040493756   0.0061016085484533675\n",
       "source_class               3242.072021484375      0.025351067907483756  0.004756197470002444\n",
       "missing_construction_year  1844.0565185546875     0.014419421196483517  0.0027052751727815343\n",
       "num_private                580.7127075195312      0.004540826726090464  0.0008519194798880797"
      ]
     },
     "metadata": {},
     "output_type": "display_data"
    },
    {
     "name": "stdout",
     "output_type": "stream",
     "text": [
      "\n",
      "See the whole table with table.as_data_frame()\n"
     ]
    },
    {
     "data": {
      "text/plain": []
     },
     "execution_count": 11,
     "metadata": {},
     "output_type": "execute_result"
    }
   ],
   "source": [
    "rf_v1"
   ]
  },
  {
   "cell_type": "markdown",
   "metadata": {
    "collapsed": true
   },
   "source": [
    "Just like in the sklearn implementation, from looking at the confusion marix we can see that the error is highest with label 1. It does relatively well with labels 0 and 2. The hit_ratio is the ratio of the number of times a correct prediction was made, to the total number of predictions.\n",
    "\n",
    "The top features are also different from what we saw with the sklearn implementation, which upweighted the importance of continuous variables. In the H2O implementation the top features are all categorical."
   ]
  },
  {
   "cell_type": "code",
   "execution_count": null,
   "metadata": {
    "collapsed": true
   },
   "outputs": [],
   "source": []
  }
 ],
 "metadata": {
  "anaconda-cloud": {},
  "kernelspec": {
   "display_name": "Python [py35]",
   "language": "python",
   "name": "Python [py35]"
  },
  "language_info": {
   "codemirror_mode": {
    "name": "ipython",
    "version": 3
   },
   "file_extension": ".py",
   "mimetype": "text/x-python",
   "name": "python",
   "nbconvert_exporter": "python",
   "pygments_lexer": "ipython3",
   "version": "3.5.2"
  }
 },
 "nbformat": 4,
 "nbformat_minor": 0
}
